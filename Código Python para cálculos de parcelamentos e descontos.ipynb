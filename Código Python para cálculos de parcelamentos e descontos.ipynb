{
  "nbformat": 4,
  "nbformat_minor": 0,
  "metadata": {
    "colab": {
      "provenance": [],
      "authorship_tag": "ABX9TyOI2GRgrMjOfEgtxdsRDHvv",
      "include_colab_link": true
    },
    "kernelspec": {
      "name": "python3",
      "display_name": "Python 3"
    },
    "language_info": {
      "name": "python"
    }
  },
  "cells": [
    {
      "cell_type": "markdown",
      "metadata": {
        "id": "view-in-github",
        "colab_type": "text"
      },
      "source": [
        "<a href=\"https://colab.research.google.com/github/yasminribs03-stack/atividade1/blob/main/C%C3%B3digo%20Python%20para%20c%C3%A1lculos%20de%20parcelamentos%20e%20descontos.ipynb\" target=\"_parent\"><img src=\"https://colab.research.google.com/assets/colab-badge.svg\" alt=\"Open In Colab\"/></a>"
      ]
    },
    {
      "cell_type": "code",
      "execution_count": 81,
      "metadata": {
        "colab": {
          "base_uri": "https://localhost:8080/",
          "height": 0
        },
        "collapsed": true,
        "id": "jmrF52JFD-W4",
        "outputId": "b4b0c026-c7eb-42b0-951c-cf98472f809e"
      },
      "outputs": [
        {
          "name": "stdout",
          "output_type": "stream",
          "text": [
            "Digite o valor total da compra:R$ 100\n"
          ]
        }
      ],
      "source": [
        "valor_original = (float(input(\"Digite o valor total da compra:R$ \")))"
      ]
    },
    {
      "cell_type": "code",
      "source": [
        "Desconto = 10 # em %"
      ],
      "metadata": {
        "id": "mn-z5uC-WRu2"
      },
      "execution_count": 82,
      "outputs": []
    },
    {
      "cell_type": "code",
      "source": [
        "Parcelas_sem_juros = [2, 3, 4, 5]"
      ],
      "metadata": {
        "id": "VSVGd00aa4UY"
      },
      "execution_count": 83,
      "outputs": []
    },
    {
      "cell_type": "code",
      "source": [
        "Parcelas_com_juros = [6, 7, 8, 9, 10]"
      ],
      "metadata": {
        "id": "uwT2fz5gf7xd"
      },
      "execution_count": 84,
      "outputs": []
    },
    {
      "cell_type": "code",
      "source": [
        "Valor_com_desconto = valor_original - (valor_original * Desconto / 100)"
      ],
      "metadata": {
        "id": "6-WMiodGVh7k"
      },
      "execution_count": 85,
      "outputs": []
    },
    {
      "cell_type": "code",
      "source": [
        "forma_de_pagamento = (input (\"O pagamento será à vista ou parcelado? \"))"
      ],
      "metadata": {
        "colab": {
          "base_uri": "https://localhost:8080/",
          "height": 0
        },
        "id": "OuTS0mpyIKhk",
        "outputId": "47237f47-fe61-4bba-fdcd-de709e8ad0bc"
      },
      "execution_count": 86,
      "outputs": [
        {
          "name": "stdout",
          "output_type": "stream",
          "text": [
            "O pagamento será à vista ou parcelado? parcelado\n"
          ]
        }
      ]
    },
    {
      "cell_type": "code",
      "source": [
        "if forma_de_pagamento == 'parcelado':\n",
        "  quantidade_parcelas = int(input(\"Digite a quantidade de parcelas de 2X a 5X sem juros e de 6X à 10X: \"))\n",
        "elif forma_de_pagamento == 'à vista':\n",
        "  print(\"O valor com desconto é: R$\", Valor_com_desconto)\n",
        "else:\n",
        "  print(\"Opção inválida. Digite À vista ou parcelado.\")"
      ],
      "metadata": {
        "colab": {
          "base_uri": "https://localhost:8080/",
          "height": 0
        },
        "id": "crNKvdjhUBfD",
        "outputId": "ef7c5155-b55d-44f0-8886-b0de7a61333b"
      },
      "execution_count": 87,
      "outputs": [
        {
          "name": "stdout",
          "output_type": "stream",
          "text": [
            "Digite a quantidade de parcelas de 2X a 5X sem juros e de 6X à 10X: 9\n"
          ]
        }
      ]
    },
    {
      "cell_type": "code",
      "source": [
        "if quantidade_parcelas in Parcelas_sem_juros:\n",
        "    valor_parcela = valor_original / quantidade_parcelas\n",
        "    print(f\"Você escolheu parcelar em {quantidade_parcelas} vezes sem juros.\")\n",
        "    print(f\"O valor de cada parcela é: R$ {valor_parcela:.2f}\")\n",
        "    print(f\"O valor total da compra parcelada é: R$ {valor_original:.2f}\")\n",
        "elif quantidade_parcelas in Parcelas_com_juros:\n",
        "    taxa_juros = 0.05\n",
        "    valor_total_com_juros = valor_original * (1 + taxa_juros * (quantidade_parcelas - len(Parcelas_sem_juros)))\n",
        "    valor_parcela_com_juros = valor_total_com_juros / quantidade_parcelas\n",
        "    print(f\"Você escolheu parcelar em {quantidade_parcelas} vezes com juros.\")\n",
        "    print(f\"A taxa de juros aplicada é: {taxa_juros*100}%\")\n",
        "    print(f\"O valor de cada parcela é: R$ {valor_parcela_com_juros:.2f}\")\n",
        "    print(f\"O valor total da compra parcelada com juros é: R$ {valor_total_com_juros:.2f}\")\n",
        "else:\n",
        "    print(\"Quantidade de parcelas inválida.\")"
      ],
      "metadata": {
        "colab": {
          "base_uri": "https://localhost:8080/",
          "height": 0
        },
        "id": "S-beXpsZdVG-",
        "outputId": "8b86d0d7-4f63-4ea3-f71b-dc812e95cc5f"
      },
      "execution_count": 88,
      "outputs": [
        {
          "output_type": "stream",
          "name": "stdout",
          "text": [
            "Você escolheu parcelar em 9 vezes com juros.\n",
            "A taxa de juros aplicada é: 5.0%\n",
            "O valor de cada parcela é: R$ 13.89\n",
            "O valor total da compra parcelada com juros é: R$ 125.00\n"
          ]
        }
      ]
    }
  ]
}